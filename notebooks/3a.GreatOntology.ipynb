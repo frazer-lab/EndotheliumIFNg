{
 "cells": [
  {
   "cell_type": "code",
   "execution_count": 2,
   "metadata": {},
   "outputs": [],
   "source": [
    "\n",
    "suppressPackageStartupMessages(library(rGREAT))\n",
    "suppressPackageStartupMessages(library(data.table))\n",
    "source(\"functions.R\")\n",
    "source(\"packages.R\")"
   ]
  },
  {
   "cell_type": "code",
   "execution_count": 4,
   "metadata": {},
   "outputs": [],
   "source": [
    "### Supplemental Table 5\n",
    "de_peaks = fread(path_to_stable5,\n",
    "             sep=\"\\t\",data.table=F)\n",
    "\n",
    " \n",
    "de_peaks$chr = str_extract(de_peaks$peak_id,\"chr[0-9A-Z]+\")\n",
    "de_peaks$start = as.numeric(gsub(\"_\",\"\",str_extract(de_peaks$peak_id,\"_[0-9]+_\")))\n",
    "de_peaks$end = as.numeric(gsub(\"_\",\"\",str_extract(de_peaks$peak_id,\"_[0-9]+$\")))\n",
    "\n",
    "peak_bed = de_peaks[,c(\"chr\",\"start\",\"end\",\"peak_id\", \"padj\", \"log2FoldChange\")]\n",
    "peak_bed = peak_bed[ order(peak_bed$chr,peak_bed$start,peak_bed$end),]\n",
    "upreg_bed = peak_bed[ peak_bed$padj < 0.05 & peak_bed$log2FoldChange > 0 ,]"
   ]
  },
  {
   "cell_type": "code",
   "execution_count": 6,
   "metadata": {},
   "outputs": [
    {
     "name": "stderr",
     "output_type": "stream",
     "text": [
      "Note: On Aug 19 2019 GREAT released version 4 which supports hg38\n",
      "genome and removes some ontologies such pathways. submitGreatJob()\n",
      "still takes hg19 as default. hg38 can be specified by argument `species\n",
      "= \"hg38\"`. To use the older versions such as 3.0.0, specify as\n",
      "submitGreatJob(..., version = \"3\"). Set argument `help` to `FALSE` to\n",
      "turn off this message.\n",
      "\n",
      "The default enrichment tables contain no associated genes for the input\n",
      "regions. You can set `download_by = 'tsv'` to download the complete\n",
      "table, but note only the top 500 regions can be retreived. See the\n",
      "following link:\n",
      "\n",
      "https://great-help.atlassian.net/wiki/spaces/GREAT/pages/655401/Export#Export-GlobalExport\n",
      "\n"
     ]
    }
   ],
   "source": [
    "back.gr = GRanges(peak_bed)\n",
    "up.gr = GRanges(upreg_bed)\n",
    "\n",
    "res = submitGreatJob(up.gr, bg = back.gr)\n",
    "\n",
    "tb = getEnrichmentTables(res)\n",
    "\n",
    "saveRDS(tb, \"../tables/rGREAT_GOEnrichment.rds\")"
   ]
  },
  {
   "cell_type": "code",
   "execution_count": null,
   "metadata": {},
   "outputs": [],
   "source": []
  }
 ],
 "metadata": {
  "kernelspec": {
   "display_name": "R 4.0.1",
   "language": "R",
   "name": "ir40"
  },
  "language_info": {
   "codemirror_mode": "r",
   "file_extension": ".r",
   "mimetype": "text/x-r-source",
   "name": "R",
   "pygments_lexer": "r",
   "version": "4.0.1"
  }
 },
 "nbformat": 4,
 "nbformat_minor": 2
}
