{
 "cells": [
  {
   "cell_type": "code",
   "execution_count": 2,
   "metadata": {},
   "outputs": [],
   "source": [
    "source(\"functions.R\")\n",
    "source(\"packages.R\")\n",
    "suppressPackageStartupMessages(library(enrichR))\n",
    "\n",
    "### Supplemental Table 2\n",
    "rna_deseq = fread(path_to_stable_2,sep=\"\\t\",data.table =F)\n",
    "upregulated = rna_deseq$gene_name[ rna_deseq$log2FoldChange > 0 & rna_deseq$padj < 0.05]\n",
    "\n",
    "dbs = listEnrichrDbs()\n",
    "dbs = dbs$libraryName\n",
    "\n",
    "out_dir=#path to output dir\n",
    "results = enrichr(upregulated, dbs)\n",
    "for (db in names(results)) { \n",
    "    resout = results[[db]]\n",
    "    resout$database = db\n",
    "    fwrite(resout, paste0(out_dir,\"/\",db,\".txt\"),\n",
    "          sep=\"\\t\",row.names=F,quote=F)\n",
    "    }"
   ]
  }
 ],
 "metadata": {
  "kernelspec": {
   "display_name": "R 4.0.1",
   "language": "R",
   "name": "ir40"
  },
  "language_info": {
   "codemirror_mode": "r",
   "file_extension": ".r",
   "mimetype": "text/x-r-source",
   "name": "R",
   "pygments_lexer": "r",
   "version": "4.0.1"
  }
 },
 "nbformat": 4,
 "nbformat_minor": 2
}
