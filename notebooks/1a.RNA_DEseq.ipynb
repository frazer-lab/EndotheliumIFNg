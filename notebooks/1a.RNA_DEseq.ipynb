{
 "cells": [
  {
   "cell_type": "code",
   "execution_count": 3,
   "metadata": {},
   "outputs": [
    {
     "name": "stderr",
     "output_type": "stream",
     "text": [
      "estimating size factors\n",
      "\n",
      "estimating dispersions\n",
      "\n",
      "gene-wise dispersion estimates\n",
      "\n",
      "mean-dispersion relationship\n",
      "\n",
      "final dispersion estimates\n",
      "\n",
      "fitting model and testing\n",
      "\n"
     ]
    }
   ],
   "source": [
    "source(\"functions.R\")\n",
    "source(\"packages.R\")\n",
    "suppressPackageStartupMessages(library(DESeq2))\n",
    "\n",
    "### Gencode v34lift37 gene_info file\n",
    "gencode = fread(gencode_gene_path, sep = \"\\t\", header = TRUE, data.table = FALSE)[,5:6]\n",
    "\n",
    "### Count file on Figshare\n",
    "counts = add_rownames(fread(count_path,sep=\"\\t\",data.table=F))\n",
    "\n",
    "### Supplemental Table 1b\n",
    "rna_meta = fread(path_to_stable_1b,sep=\"\\t\",data.table=F)\n",
    "rna_meta$id = paste(rna_meta$udid,rna_meta$treatment, sep=\"_\")\n",
    "rna_meta$id = factor(rna_meta$id , levels= colnames(counts))\n",
    "rna_meta = rna_meta[ order(rna_meta$id),]\n",
    "rownames(rna_meta) = rna_meta$id\n",
    "rna_meta$treatment = factor(rna_meta$treatment, levels = c(\"CONTROL\",\"IFNg\"))\n",
    "rna_meta$udid = factor(rna_meta$udid, levels = paste0(\"UDID\",c(\"006\",\"088\",\"076\",\"148\")))\n",
    "\n",
    "\n",
    "dds <- DESeqDataSetFromMatrix(countData = counts,\n",
    "                              colData = rna_meta,\n",
    "                              design= ~  udid + treatment )\n",
    "dds <- DESeq(dds)\n",
    "\n",
    "res <- as.data.frame(results(dds))\n",
    "res$gene_id = rownames(res)\n",
    "res = merge(res, gencode)\n",
    "\n",
    "res = res [ complete.cases(res),]\n",
    "\n"
   ]
  },
  {
   "cell_type": "code",
   "execution_count": 6,
   "metadata": {},
   "outputs": [],
   "source": []
  },
  {
   "cell_type": "code",
   "execution_count": null,
   "metadata": {},
   "outputs": [],
   "source": []
  }
 ],
 "metadata": {
  "kernelspec": {
   "display_name": "R 4.1.0",
   "language": "R",
   "name": "ir410"
  },
  "language_info": {
   "codemirror_mode": "r",
   "file_extension": ".r",
   "mimetype": "text/x-r-source",
   "name": "R",
   "pygments_lexer": "r",
   "version": "4.1.0"
  }
 },
 "nbformat": 4,
 "nbformat_minor": 2
}
