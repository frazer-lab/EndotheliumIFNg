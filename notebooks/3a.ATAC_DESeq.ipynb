{
 "cells": [
  {
   "cell_type": "code",
   "execution_count": 2,
   "metadata": {},
   "outputs": [],
   "source": [
    "source(\"functions.R\")\n",
    "source(\"packages.R\")\n",
    "suppressPackageStartupMessages(library(DESeq2))"
   ]
  },
  {
   "cell_type": "code",
   "execution_count": 13,
   "metadata": {},
   "outputs": [],
   "source": [
    "### ATAC-seq count matrix in Figshare\n",
    "atac_counts = add_rownames(fread(\"../tables/atac_counts.txt\",sep=\"\\t\",data.table=F))\n",
    "atac_meta = fread(\"../tables/TableS1c.txt\",sep=\"\\t\",data.table=F)\n",
    "atac_meta$id = paste(atac_meta$udid, atac_meta$treatment, sep= \"_\")\n",
    "atac_meta$id = factor(atac_meta$id, levels = colnames(atac_counts))\n",
    "atac_meta = atac_meta[ order(atac_meta$id),]\n",
    "atac_meta$treatment = factor(atac_meta$treatment, levels = c(\"CONTROL\",\"IFNg\"))\n",
    "rownames(atac_meta) = atac_meta$id\n"
   ]
  },
  {
   "cell_type": "code",
   "execution_count": null,
   "metadata": {},
   "outputs": [
    {
     "name": "stderr",
     "output_type": "stream",
     "text": [
      "Warning message in DESeqDataSet(se, design = design, ignoreRank):\n",
      "“some variables in design formula are characters, converting to factors”\n",
      "estimating size factors\n",
      "\n",
      "estimating dispersions\n",
      "\n",
      "gene-wise dispersion estimates\n",
      "\n",
      "mean-dispersion relationship\n",
      "\n",
      "final dispersion estimates\n",
      "\n",
      "fitting model and testing\n",
      "\n"
     ]
    }
   ],
   "source": [
    "atac.dds <- DESeqDataSetFromMatrix(countData = atac_counts,\n",
    "                              colData = atac_meta,\n",
    "                              design= ~ udid + treatment )\n",
    "atac.dds <- DESeq(atac.dds)\n",
    "atac.res <- as.data.frame(results(atac.dds))\n",
    "atac.res$peak_id = rownames(atac.res)\n",
    "atac.res = atac.res[ complete.cases(atac.res),]"
   ]
  },
  {
   "cell_type": "code",
   "execution_count": 15,
   "metadata": {},
   "outputs": [],
   "source": [
    "### See Supplemental Tables \n",
    "fwrite(atac.res, \"../tables/atac_deseq_results.txt\",sep=\"\\t\",row.names=F,quote=F)"
   ]
  },
  {
   "cell_type": "code",
   "execution_count": null,
   "metadata": {},
   "outputs": [],
   "source": []
  }
 ],
 "metadata": {
  "kernelspec": {
   "display_name": "R 4.1.0",
   "language": "R",
   "name": "ir410"
  },
  "language_info": {
   "codemirror_mode": "r",
   "file_extension": ".r",
   "mimetype": "text/x-r-source",
   "name": "R",
   "pygments_lexer": "r",
   "version": "4.1.0"
  }
 },
 "nbformat": 4,
 "nbformat_minor": 2
}
